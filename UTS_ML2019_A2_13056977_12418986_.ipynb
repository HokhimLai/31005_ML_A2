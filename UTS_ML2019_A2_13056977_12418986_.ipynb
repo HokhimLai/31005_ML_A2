{
  "nbformat": 4,
  "nbformat_minor": 0,
  "metadata": {
    "colab": {
      "name": "UTS_ML2019_A2_13056977_12418986 .ipynb",
      "provenance": [],
      "collapsed_sections": [],
      "include_colab_link": true
    },
    "kernelspec": {
      "name": "python3",
      "display_name": "Python 3"
    }
  },
  "cells": [
    {
      "cell_type": "markdown",
      "metadata": {
        "id": "view-in-github",
        "colab_type": "text"
      },
      "source": [
        "<a href=\"https://colab.research.google.com/github/HokhimLai/31005_ML_A2/blob/master/UTS_ML2019_A2_13056977_12418986_.ipynb\" target=\"_parent\"><img src=\"https://colab.research.google.com/assets/colab-badge.svg\" alt=\"Open In Colab\"/></a>"
      ]
    },
    {
      "cell_type": "markdown",
      "metadata": {
        "id": "g3g6ItTK64kI",
        "colab_type": "text"
      },
      "source": [
        "#### UTS Machine learnig 2019 Assignment2_Practical machine learning project\n",
        "`Subject code: 31005`\n",
        "\n",
        "`StudentID: 13056977,12418986 `\n",
        "\n",
        "`StudentName: HokHim Lai, Shiwei Xu`\n",
        "\n",
        "`Git_hub url: https://github.com/HokhimLai/31005_ML_A2`"
      ]
    },
    {
      "cell_type": "markdown",
      "metadata": {
        "id": "xZVBVXwp4xRr",
        "colab_type": "text"
      },
      "source": [
        "#1 Introduction\n",
        "\n",
        "This project is going to implement some simple and basic machine learning algorithm. In the Introduction of Data Analysis course, lecturer did introduced the basic dataset - __Iris dataset__. However, we analysed that dataset in KNIME with simple configuration. In this project, we are going to investigate this dataset in python from scratch. We are going to implement  basic and primary machine learning algorithms, they are _Decision tree (CART, ID3)_ and _KNeighborsClassifier_. Beside the __Iris dataset__, in order to experiment the algorithm  comprehensively, another dataset - __Wine dataset__ would also be applied. Finally, we will compare the accary to check out how the algorithm performs in different situations. The input will be the dataset and the output would be the accary of the algorithms."
      ]
    },
    {
      "cell_type": "markdown",
      "metadata": {
        "id": "n8-oXTWAqFvx",
        "colab_type": "text"
      },
      "source": [
        "#2 Exploration \n",
        "\n",
        "The challenge of this dataset is we don’t know the relationship and the correlation of each column yet. As we have to find out the relationship of each attribute, we decide to have some data exploration before applying the dataset into the algorithm. Before starting the exploration, we have to setup the environment that can let dataset execute welly first. We import numpy for linear algebra, pandas for data processing like read the csv file, seaborn and matplotlib for visualize the data for further analysis.\n",
        "\n"
      ]
    },
    {
      "cell_type": "code",
      "metadata": {
        "id": "tm-FnmvSukji",
        "colab_type": "code",
        "colab": {}
      },
      "source": [
        "import numpy as np \n",
        "import pandas as pd \n",
        "import seaborn as sns\n",
        "import matplotlib.pyplot as plt\n",
        "from sklearn.preprocessing import StandardScaler, LabelEncoder\n",
        "from sklearn.model_selection import train_test_split\n",
        "from sklearn import metrics #for checking the model accuracy\n",
        "from sklearn.tree import DecisionTreeClassifier\n",
        "from sklearn.neighbors import KNeighborsClassifier\n"
      ],
      "execution_count": 0,
      "outputs": []
    },
    {
      "cell_type": "code",
      "metadata": {
        "id": "OVXqe2GHtY_d",
        "colab_type": "code",
        "outputId": "6f03bca3-dc24-4fbb-ce96-117e7207de6c",
        "colab": {
          "base_uri": "https://localhost:8080/",
          "height": 187
        }
      },
      "source": [
        "url = 'https://raw.githubusercontent.com/HokhimLai/31005_ML_A2/master/Dataset/Iris.csv'\n",
        "iris = pd.read_csv(url)\n",
        "iris = iris.drop(\"Id\", axis=1) #as we dont need the first coloum \"ID\" to analys this dataset\n",
        "\n",
        "iris.head()\n",
        "iris.info()"
      ],
      "execution_count": 2,
      "outputs": [
        {
          "output_type": "stream",
          "text": [
            "<class 'pandas.core.frame.DataFrame'>\n",
            "RangeIndex: 150 entries, 0 to 149\n",
            "Data columns (total 5 columns):\n",
            "SepalLengthCm    150 non-null float64\n",
            "SepalWidthCm     150 non-null float64\n",
            "PetalLengthCm    150 non-null float64\n",
            "PetalWidthCm     150 non-null float64\n",
            "Species          150 non-null object\n",
            "dtypes: float64(4), object(1)\n",
            "memory usage: 5.9+ KB\n"
          ],
          "name": "stdout"
        }
      ]
    },
    {
      "cell_type": "markdown",
      "metadata": {
        "id": "NonlgKSQwSJX",
        "colab_type": "text"
      },
      "source": [
        "Through the _head()_ and _info()_ function, we can see that the data contain 150 entries with 6 columns. We don’t need the first column __“ID”__ for the data analyzation, therefore, first column is dropped out. The information from the function also shown there is no missing attribute, the data cleaning process is not required, the whole dataset is ready to use and explore."
      ]
    },
    {
      "cell_type": "markdown",
      "metadata": {
        "id": "43IQViRyxmwi",
        "colab_type": "text"
      },
      "source": [
        "### 2.1 Iris dataset exploration\n",
        "\n",
        "\n",
        "\n"
      ]
    },
    {
      "cell_type": "markdown",
      "metadata": {
        "id": "dPhgmA51x9x7",
        "colab_type": "text"
      },
      "source": [
        "In this section, we are going to explore the dataset with different mathematical process and graph, in order to find out the attribute relationship and the best attribute to train our algorithm."
      ]
    },
    {
      "cell_type": "code",
      "metadata": {
        "id": "QQ_Sbw_WzeIa",
        "colab_type": "code",
        "outputId": "152ac868-172d-4a53-e210-27a0b29d51dc",
        "colab": {
          "base_uri": "https://localhost:8080/",
          "height": 404
        }
      },
      "source": [
        "fig = iris[iris.Species=='Iris-setosa'].plot(kind='scatter',x='SepalLengthCm',y='SepalWidthCm',color='red', label='Setosa')\n",
        "iris[iris.Species=='Iris-versicolor'].plot(kind='scatter',x='SepalLengthCm',y='SepalWidthCm',color='green', label='versicolor',ax=fig)\n",
        "iris[iris.Species=='Iris-virginica'].plot(kind='scatter',x='SepalLengthCm',y='SepalWidthCm',color='blue', label='virginica', ax=fig)\n",
        "fig.set_xlabel(\"Sepal Length\")\n",
        "fig.set_ylabel(\"Sepal Width\")\n",
        "fig.set_title(\"Sepal Length and Width\")\n",
        "fig=plt.gcf()\n",
        "fig.set_size_inches(10,6)\n",
        "plt.show()"
      ],
      "execution_count": 3,
      "outputs": [
        {
          "output_type": "display_data",
          "data": {
            "image/png": "[encoded data removed]",
            "text/plain": [
              "<Figure size 720x432 with 1 Axes>"
            ]
          },
          "metadata": {
            "tags": []
          }
        }
      ]
    },
    {
      "cell_type": "markdown",
      "metadata": {
        "id": "ecjmxACr0dcL",
        "colab_type": "text"
      },
      "source": [
        "\n",
        "In this diagram, the scatter plot is spared distributedly, we can’t not tell the relationship until further exploration.\n"
      ]
    },
    {
      "cell_type": "code",
      "metadata": {
        "id": "WnQ44P-S1Nio",
        "colab_type": "code",
        "outputId": "d7a655e6-fa8d-409f-e208-3ef5370ceae1",
        "colab": {
          "base_uri": "https://localhost:8080/",
          "height": 404
        }
      },
      "source": [
        "fig = iris[iris.Species=='Iris-setosa'].plot.scatter(x='PetalLengthCm',y='PetalWidthCm',color='red', label='Setosa')\n",
        "iris[iris.Species=='Iris-versicolor'].plot.scatter(x='PetalLengthCm',y='PetalWidthCm',color='green', label='versicolor',ax=fig)\n",
        "iris[iris.Species=='Iris-virginica'].plot.scatter(x='PetalLengthCm',y='PetalWidthCm',color='blue', label='virginica', ax=fig)\n",
        "fig.set_xlabel(\"Petal Length\")\n",
        "fig.set_ylabel(\"Petal Width\")\n",
        "fig.set_title(\" Petal Length and Width\")\n",
        "fig=plt.gcf()\n",
        "fig.set_size_inches(10,6)\n",
        "plt.show()"
      ],
      "execution_count": 4,
      "outputs": [
        {
          "output_type": "display_data",
          "data": {
            "image/png": "[encoded data removed]",
            "text/plain": [
              "<Figure size 720x432 with 1 Axes>"
            ]
          },
          "metadata": {
            "tags": []
          }
        }
      ]
    },
    {
      "cell_type": "markdown",
      "metadata": {
        "id": "2VhuK5AK1-DG",
        "colab_type": "text"
      },
      "source": [
        "From the above picture, we can see the scatter of  Petal length and width is more cluster and deveined compare with Sepal. This shown that using Petal features may have a better prediction on the algorithm. "
      ]
    },
    {
      "cell_type": "code",
      "metadata": {
        "id": "q88UAXbN2Aek",
        "colab_type": "code",
        "outputId": "7587d22a-3595-4763-ee07-8c80a7a0f3db",
        "colab": {
          "base_uri": "https://localhost:8080/",
          "height": 487
        }
      },
      "source": [
        "plt.figure(figsize=(12,8)) \n",
        "sns.heatmap(iris.corr(),annot=True) #draws  heatmap with input as the correlation matrix calculted by(iris.corr())\n",
        "plt.show()"
      ],
      "execution_count": 5,
      "outputs": [
        {
          "output_type": "display_data",
          "data": {
            "image/png": "[encoded data removed]",
            "text/plain": [
              "<Figure size 864x576 with 2 Axes>"
            ]
          },
          "metadata": {
            "tags": []
          }
        }
      ]
    },
    {
      "cell_type": "markdown",
      "metadata": {
        "id": "3KEXTI7n2Esb",
        "colab_type": "text"
      },
      "source": [
        "Furthermore, I applied the dataset into a correlation heatmap. In the picture, we can see the SepalLengthCm and SepalWidthCm are negatively correlated. But SepalLengthCm, PetalWidthCm and PetalLengthCm appear a highly correlation. After data exploration, now we know which attribute can use to try our algorithm and test the accuracy.\n"
      ]
    },
    {
      "cell_type": "markdown",
      "metadata": {
        "id": "rvSHOgT337Ul",
        "colab_type": "text"
      },
      "source": [
        "# 3 Methodlogy and Evaluation\n",
        "\n"
      ]
    },
    {
      "cell_type": "markdown",
      "metadata": {
        "id": "JF0p0xRD0dKP",
        "colab_type": "text"
      },
      "source": [
        "##3.1 Data Splitting\n",
        "\n",
        "To train the dataset, we are going to divide the dataset into training set and test set. Here we are going to split the data in to 70 and 30 ratio, the large set will be the one used to train the algorithm. And after the "
      ]
    },
    {
      "cell_type": "code",
      "metadata": {
        "id": "JKz02C4A0c0R",
        "colab_type": "code",
        "outputId": "cb01ceba-163e-4959-b60b-05de2d6e926b",
        "colab": {
          "base_uri": "https://localhost:8080/",
          "height": 51
        }
      },
      "source": [
        "train, test = train_test_split(iris, test_size = 0.3)\n",
        "print(train.shape)\n",
        "print(test.shape)"
      ],
      "execution_count": 6,
      "outputs": [
        {
          "output_type": "stream",
          "text": [
            "(105, 5)\n",
            "(45, 5)\n"
          ],
          "name": "stdout"
        }
      ]
    },
    {
      "cell_type": "markdown",
      "metadata": {
        "id": "HbLqLGG03aFQ",
        "colab_type": "text"
      },
      "source": [
        "After executing the code, we can see than the train set have 105 attributes and the test set have 45 attributes. Now we can simply apply these dataset into our algorithm. Let classify our dataset more details and take the main feature to our train and test set. "
      ]
    },
    {
      "cell_type": "code",
      "metadata": {
        "id": "Fyz9mGLm4BzF",
        "colab_type": "code",
        "colab": {}
      },
      "source": [
        "train_X = train[['SepalLengthCm','SepalWidthCm','PetalLengthCm','PetalWidthCm']]\n",
        "train_y=train.Species\n",
        "test_X= test[['SepalLengthCm','SepalWidthCm','PetalLengthCm','PetalWidthCm']] \n",
        "test_y =test.Species   "
      ],
      "execution_count": 0,
      "outputs": []
    },
    {
      "cell_type": "markdown",
      "metadata": {
        "id": "wqt3YWpf3lj5",
        "colab_type": "text"
      },
      "source": [
        "##3.2 Decision Tree Algorithm"
      ]
    },
    {
      "cell_type": "markdown",
      "metadata": {
        "id": "VoYl7CWL4vKe",
        "colab_type": "text"
      },
      "source": [
        "###3.2.1 Decision tree (Gini)"
      ]
    },
    {
      "cell_type": "code",
      "metadata": {
        "id": "MYK1Ug8t3lLx",
        "colab_type": "code",
        "outputId": "b74e752a-440f-422f-b2cd-76e10b2b8592",
        "colab": {
          "base_uri": "https://localhost:8080/",
          "height": 34
        }
      },
      "source": [
        "model1 = DecisionTreeClassifier(criterion=\"gini\")\n",
        "model1.fit(train_X,train_y)\n",
        "prediction = model1.predict(test_X)\n",
        "print('The accuracy of the Decision Tree (Gini) is',metrics.accuracy_score(prediction,test_y))"
      ],
      "execution_count": 8,
      "outputs": [
        {
          "output_type": "stream",
          "text": [
            "The accuracy of the Decision Tree (Gini) is 0.9333333333333333\n"
          ],
          "name": "stdout"
        }
      ]
    },
    {
      "cell_type": "markdown",
      "metadata": {
        "id": "Mbl6m52wU03z",
        "colab_type": "text"
      },
      "source": [
        "###3.2.2 Decision tree (ID3)"
      ]
    },
    {
      "cell_type": "code",
      "metadata": {
        "id": "0EMWmuvPACpl",
        "colab_type": "code",
        "outputId": "266b12aa-036f-4261-91f2-9bb69cdf5fc8",
        "colab": {
          "base_uri": "https://localhost:8080/",
          "height": 34
        }
      },
      "source": [
        "model2 = DecisionTreeClassifier(criterion=\"entropy\")\n",
        "model2 = model2.fit(train_X,train_y)\n",
        "prediction2 = model2.predict(test_X)\n",
        "print('The accuracy of the Decision Tree (ID3) is',metrics.accuracy_score(prediction2,test_y))"
      ],
      "execution_count": 9,
      "outputs": [
        {
          "output_type": "stream",
          "text": [
            "The accuracy of the Decision Tree (ID3) is 0.9333333333333333\n"
          ],
          "name": "stdout"
        }
      ]
    },
    {
      "cell_type": "markdown",
      "metadata": {
        "id": "On_Ag5f_U3fa",
        "colab_type": "text"
      },
      "source": [
        "###3.2.3 K-Nearest Neighbours"
      ]
    },
    {
      "cell_type": "code",
      "metadata": {
        "id": "5chqWof9HMSO",
        "colab_type": "code",
        "outputId": "89b7be5f-d9db-4e20-fdd9-1b622d69962c",
        "colab": {
          "base_uri": "https://localhost:8080/",
          "height": 34
        }
      },
      "source": [
        "model3 = KNeighborsClassifier(n_neighbors=3) \n",
        "model3.fit(train_X,train_y)\n",
        "prediction3 = model3.predict(test_X)\n",
        "print('The accuracy of the KNN is',metrics.accuracy_score(prediction3,test_y))"
      ],
      "execution_count": 10,
      "outputs": [
        {
          "output_type": "stream",
          "text": [
            "The accuracy of the KNN is 0.9555555555555556\n"
          ],
          "name": "stdout"
        }
      ]
    },
    {
      "cell_type": "markdown",
      "metadata": {
        "id": "J1XstuHMVADF",
        "colab_type": "text"
      },
      "source": [
        "##3.3 Comparative Study on dataset _Iris_"
      ]
    },
    {
      "cell_type": "markdown",
      "metadata": {
        "id": "bZdtajMnLDOc",
        "colab_type": "text"
      },
      "source": [
        "Now we are going to compare the accary and performance  of each algorithm."
      ]
    },
    {
      "cell_type": "code",
      "metadata": {
        "id": "X157uenzLCzq",
        "colab_type": "code",
        "outputId": "a587962b-beb3-4030-cb54-3b55520ec7ce",
        "colab": {
          "base_uri": "https://localhost:8080/",
          "height": 68
        }
      },
      "source": [
        "print('The accuracy of the Decision Tree (Gini) is',metrics.accuracy_score(prediction,test_y))\n",
        "print('The accuracy of the Decision Tree (ID3) is',metrics.accuracy_score(prediction2,test_y))\n",
        "print('The accuracy of the KNN is',metrics.accuracy_score(prediction3,test_y))"
      ],
      "execution_count": 11,
      "outputs": [
        {
          "output_type": "stream",
          "text": [
            "The accuracy of the Decision Tree (Gini) is 0.9333333333333333\n",
            "The accuracy of the Decision Tree (ID3) is 0.9333333333333333\n",
            "The accuracy of the KNN is 0.9555555555555556\n"
          ],
          "name": "stdout"
        }
      ]
    },
    {
      "cell_type": "markdown",
      "metadata": {
        "id": "dL1AEZK3UIwK",
        "colab_type": "text"
      },
      "source": [
        "The result is Decision Tree using Gini and ID3 both got around 93% accary and KNN got 91% accary. In this dataset, we can't really tell the difference of the algorithm performance. Therefore, we have decided to apply these algorithms to another dataset for reference."
      ]
    },
    {
      "cell_type": "markdown",
      "metadata": {
        "id": "rEvru2bBVM3K",
        "colab_type": "text"
      },
      "source": [
        "##3.4 Application of Wine dataset"
      ]
    },
    {
      "cell_type": "markdown",
      "metadata": {
        "id": "R_XzJUOxVYkp",
        "colab_type": "text"
      },
      "source": [
        "In this section, we are going to apply another dataset to test the algorithms performance. A popular dataset - Wine dataset will be used here."
      ]
    },
    {
      "cell_type": "code",
      "metadata": {
        "id": "FOu4xrvVVYCj",
        "colab_type": "code",
        "outputId": "f3979ae7-e934-402a-c2dd-f1105b5af997",
        "colab": {
          "base_uri": "https://localhost:8080/",
          "height": 221
        }
      },
      "source": [
        "url2 = 'https://raw.githubusercontent.com/HokhimLai/31005_ML_A2/master/Dataset/winequality-red.csv'\n",
        "wine= pd.read_csv(url2)\n",
        "\n",
        "wine.head()"
      ],
      "execution_count": 12,
      "outputs": [
        {
          "output_type": "execute_result",
          "data": {
            "text/html": [
              "<div>\n",
              "<style scoped>\n",
              "    .dataframe tbody tr th:only-of-type {\n",
              "        vertical-align: middle;\n",
              "    }\n",
              "\n",
              "    .dataframe tbody tr th {\n",
              "        vertical-align: top;\n",
              "    }\n",
              "\n",
              "    .dataframe thead th {\n",
              "        text-align: right;\n",
              "    }\n",
              "</style>\n",
              "<table border=\"1\" class=\"dataframe\">\n",
              "  <thead>\n",
              "    <tr style=\"text-align: right;\">\n",
              "      <th></th>\n",
              "      <th>fixed acidity</th>\n",
              "      <th>volatile acidity</th>\n",
              "      <th>citric acid</th>\n",
              "      <th>residual sugar</th>\n",
              "      <th>chlorides</th>\n",
              "      <th>free sulfur dioxide</th>\n",
              "      <th>total sulfur dioxide</th>\n",
              "      <th>density</th>\n",
              "      <th>pH</th>\n",
              "      <th>sulphates</th>\n",
              "      <th>alcohol</th>\n",
              "      <th>quality</th>\n",
              "    </tr>\n",
              "  </thead>\n",
              "  <tbody>\n",
              "    <tr>\n",
              "      <th>0</th>\n",
              "      <td>7.4</td>\n",
              "      <td>0.70</td>\n",
              "      <td>0.00</td>\n",
              "      <td>1.9</td>\n",
              "      <td>0.076</td>\n",
              "      <td>11.0</td>\n",
              "      <td>34.0</td>\n",
              "      <td>0.9978</td>\n",
              "      <td>3.51</td>\n",
              "      <td>0.56</td>\n",
              "      <td>9.4</td>\n",
              "      <td>5</td>\n",
              "    </tr>\n",
              "    <tr>\n",
              "      <th>1</th>\n",
              "      <td>7.8</td>\n",
              "      <td>0.88</td>\n",
              "      <td>0.00</td>\n",
              "      <td>2.6</td>\n",
              "      <td>0.098</td>\n",
              "      <td>25.0</td>\n",
              "      <td>67.0</td>\n",
              "      <td>0.9968</td>\n",
              "      <td>3.20</td>\n",
              "      <td>0.68</td>\n",
              "      <td>9.8</td>\n",
              "      <td>5</td>\n",
              "    </tr>\n",
              "    <tr>\n",
              "      <th>2</th>\n",
              "      <td>7.8</td>\n",
              "      <td>0.76</td>\n",
              "      <td>0.04</td>\n",
              "      <td>2.3</td>\n",
              "      <td>0.092</td>\n",
              "      <td>15.0</td>\n",
              "      <td>54.0</td>\n",
              "      <td>0.9970</td>\n",
              "      <td>3.26</td>\n",
              "      <td>0.65</td>\n",
              "      <td>9.8</td>\n",
              "      <td>5</td>\n",
              "    </tr>\n",
              "    <tr>\n",
              "      <th>3</th>\n",
              "      <td>11.2</td>\n",
              "      <td>0.28</td>\n",
              "      <td>0.56</td>\n",
              "      <td>1.9</td>\n",
              "      <td>0.075</td>\n",
              "      <td>17.0</td>\n",
              "      <td>60.0</td>\n",
              "      <td>0.9980</td>\n",
              "      <td>3.16</td>\n",
              "      <td>0.58</td>\n",
              "      <td>9.8</td>\n",
              "      <td>6</td>\n",
              "    </tr>\n",
              "    <tr>\n",
              "      <th>4</th>\n",
              "      <td>7.4</td>\n",
              "      <td>0.70</td>\n",
              "      <td>0.00</td>\n",
              "      <td>1.9</td>\n",
              "      <td>0.076</td>\n",
              "      <td>11.0</td>\n",
              "      <td>34.0</td>\n",
              "      <td>0.9978</td>\n",
              "      <td>3.51</td>\n",
              "      <td>0.56</td>\n",
              "      <td>9.4</td>\n",
              "      <td>5</td>\n",
              "    </tr>\n",
              "  </tbody>\n",
              "</table>\n",
              "</div>"
            ],
            "text/plain": [
              "   fixed acidity  volatile acidity  citric acid  ...  sulphates  alcohol  quality\n",
              "0            7.4              0.70         0.00  ...       0.56      9.4        5\n",
              "1            7.8              0.88         0.00  ...       0.68      9.8        5\n",
              "2            7.8              0.76         0.04  ...       0.65      9.8        5\n",
              "3           11.2              0.28         0.56  ...       0.58      9.8        6\n",
              "4            7.4              0.70         0.00  ...       0.56      9.4        5\n",
              "\n",
              "[5 rows x 12 columns]"
            ]
          },
          "metadata": {
            "tags": []
          },
          "execution_count": 12
        }
      ]
    },
    {
      "cell_type": "markdown",
      "metadata": {
        "id": "b5pncZ23sWve",
        "colab_type": "text"
      },
      "source": [
        "##3.4.1 binarization\n",
        "We are going to do binarize the data in here, the original data have been classify the ‘quality’ of the wine from 1 to 5. Now we are going to classify it to either good and bad quality and put it into 2 separately class. Using function __LabelEncoder()__ allow the data encode labels with value 0 and 1."
      ]
    },
    {
      "cell_type": "code",
      "metadata": {
        "id": "dm6k65f9Vb9q",
        "colab_type": "code",
        "colab": {}
      },
      "source": [
        "bins = (2, 6.5, 8)\n",
        "group_names = ['bad', 'good']\n",
        "wine['quality'] = pd.cut(wine['quality'], bins = bins, labels = group_names)"
      ],
      "execution_count": 0,
      "outputs": []
    },
    {
      "cell_type": "code",
      "metadata": {
        "id": "r8UQOKIlVeRN",
        "colab_type": "code",
        "colab": {}
      },
      "source": [
        "label_quality = LabelEncoder()"
      ],
      "execution_count": 0,
      "outputs": []
    },
    {
      "cell_type": "code",
      "metadata": {
        "id": "pOXB7lbAVfzk",
        "colab_type": "code",
        "outputId": "cb00b731-7021-4449-cdb5-ba23c577dddd",
        "colab": {
          "base_uri": "https://localhost:8080/",
          "height": 68
        }
      },
      "source": [
        "wine['quality'] = label_quality.fit_transform(wine['quality'])\n",
        "wine['quality'].value_counts()"
      ],
      "execution_count": 15,
      "outputs": [
        {
          "output_type": "execute_result",
          "data": {
            "text/plain": [
              "0    1382\n",
              "1     217\n",
              "Name: quality, dtype: int64"
            ]
          },
          "metadata": {
            "tags": []
          },
          "execution_count": 15
        }
      ]
    },
    {
      "cell_type": "markdown",
      "metadata": {
        "id": "I5fyQM_Zw6a8",
        "colab_type": "text"
      },
      "source": [
        "Now we can see that under the 'quality' class, the data has been assigned into either 0 or 1 subclass. Which 0 contain 1382 attributes and1 contain 217 attributes. After these process, data is ready to apply into the training algorithms."
      ]
    },
    {
      "cell_type": "code",
      "metadata": {
        "id": "uUeSnzqtVjbS",
        "colab_type": "code",
        "colab": {}
      },
      "source": [
        "X = wine.drop('quality', axis = 1)\n",
        "y = wine['quality']"
      ],
      "execution_count": 0,
      "outputs": []
    },
    {
      "cell_type": "code",
      "metadata": {
        "id": "hNf7jQhZVmbI",
        "colab_type": "code",
        "colab": {}
      },
      "source": [
        "X_train, X_test, y_train, y_test = train_test_split(X, y, test_size = 0.3, random_state = 42)"
      ],
      "execution_count": 0,
      "outputs": []
    },
    {
      "cell_type": "markdown",
      "metadata": {
        "id": "IgVWdROTxtOg",
        "colab_type": "text"
      },
      "source": [
        "Adding Standardize features by removing the mean and scaling to unit variance."
      ]
    },
    {
      "cell_type": "code",
      "metadata": {
        "id": "iFmfObn4VrwG",
        "colab_type": "code",
        "colab": {}
      },
      "source": [
        "sc = StandardScaler()"
      ],
      "execution_count": 0,
      "outputs": []
    },
    {
      "cell_type": "code",
      "metadata": {
        "id": "3ZqgAYsFVtMs",
        "colab_type": "code",
        "colab": {}
      },
      "source": [
        "X_train = sc.fit_transform(X_train)\n",
        "X_test = sc.fit_transform(X_test)"
      ],
      "execution_count": 0,
      "outputs": []
    },
    {
      "cell_type": "code",
      "metadata": {
        "id": "up8N5og9Vu6C",
        "colab_type": "code",
        "outputId": "5a6146e3-2ab9-44e2-81db-e83eb92b1e89",
        "colab": {
          "base_uri": "https://localhost:8080/",
          "height": 34
        }
      },
      "source": [
        "model4 = DecisionTreeClassifier(criterion=\"gini\")\n",
        "model4.fit(X_train,y_train)\n",
        "prediction4 = model4.predict(X_test)\n",
        "print('The accuracy of the Decision Tree (Gini) is',metrics.accuracy_score(prediction4,y_test))"
      ],
      "execution_count": 20,
      "outputs": [
        {
          "output_type": "stream",
          "text": [
            "The accuracy of the Decision Tree (Gini) is 0.8395833333333333\n"
          ],
          "name": "stdout"
        }
      ]
    },
    {
      "cell_type": "code",
      "metadata": {
        "id": "uUs6ZdEhVw_k",
        "colab_type": "code",
        "outputId": "34c14397-5fab-481b-b960-ef62d283bd44",
        "colab": {
          "base_uri": "https://localhost:8080/",
          "height": 34
        }
      },
      "source": [
        "model5 = DecisionTreeClassifier(criterion=\"entropy\", max_depth=6)\n",
        "model5 = model5.fit(X_train,y_train)\n",
        "prediction5 = model5.predict(X_test)\n",
        "print('The accuracy of the Decision Tree (ID3)is',metrics.accuracy_score(prediction5,y_test))"
      ],
      "execution_count": 21,
      "outputs": [
        {
          "output_type": "stream",
          "text": [
            "The accuracy of the Decision Tree (ID3)is 0.8666666666666667\n"
          ],
          "name": "stdout"
        }
      ]
    },
    {
      "cell_type": "code",
      "metadata": {
        "id": "Yh9u-cHGVy9w",
        "colab_type": "code",
        "outputId": "044adcde-3034-4407-d9e9-9f31a092a309",
        "colab": {
          "base_uri": "https://localhost:8080/",
          "height": 34
        }
      },
      "source": [
        "model6=KNeighborsClassifier(n_neighbors=3) \n",
        "model6.fit(X_train,y_train)\n",
        "prediction6=model6.predict(X_test)\n",
        "print('The accuracy of the KNN is',metrics.accuracy_score(prediction6,y_test))"
      ],
      "execution_count": 22,
      "outputs": [
        {
          "output_type": "stream",
          "text": [
            "The accuracy of the KNN is 0.8625\n"
          ],
          "name": "stdout"
        }
      ]
    },
    {
      "cell_type": "markdown",
      "metadata": {
        "id": "rLu97MCVzGM5",
        "colab_type": "text"
      },
      "source": [
        "##3.4.2 Comparative Study on dataset _Wine_"
      ]
    },
    {
      "cell_type": "markdown",
      "metadata": {
        "id": "p77ZqaJFzNXu",
        "colab_type": "text"
      },
      "source": [
        "Now we are going to compare the accary and performance  of each algorithm."
      ]
    },
    {
      "cell_type": "code",
      "metadata": {
        "id": "TFh-bbr1zMwg",
        "colab_type": "code",
        "outputId": "962fd644-40b9-4d16-c9a0-783a53815548",
        "colab": {
          "base_uri": "https://localhost:8080/",
          "height": 68
        }
      },
      "source": [
        "print('The accuracy of the Decision Tree (Gini) is',metrics.accuracy_score(prediction4,y_test))\n",
        "print('The accuracy of the Decision Tree (ID3) is',metrics.accuracy_score(prediction5,y_test))\n",
        "print('The accuracy of the KNN is',metrics.accuracy_score(prediction6,y_test))"
      ],
      "execution_count": 23,
      "outputs": [
        {
          "output_type": "stream",
          "text": [
            "The accuracy of the Decision Tree (Gini) is 0.8395833333333333\n",
            "The accuracy of the Decision Tree (ID3) is 0.8666666666666667\n",
            "The accuracy of the KNN is 0.8625\n"
          ],
          "name": "stdout"
        }
      ]
    },
    {
      "cell_type": "markdown",
      "metadata": {
        "id": "NifXKhJrzjo0",
        "colab_type": "text"
      },
      "source": [
        "#4 Conclusion\n",
        "\n",
        "After all the testing, we found out that different algorithms behave variously on different dataset. But all of them can get quite result. In the middle of the project, we try to compare which algorithm will be the best or the smartest one, however, we found out that only one or two dataset cannot indicate the performance of the algorithm. Because based on different circumstances, the algorithm will behave differently. Even though in the same caretory “Decision Tree”, the GINI and ID3 configuration will result in a different accuracy. Furthermore, the setting  on neighbors from 1 to 10 will also produce a different result. Through all these observation, we agree that we are not trying to build or apply the best machine learning algorithm, but find the finest algorithm that can perfectly complicate to the dataset. \n",
        "\n",
        "Finally, due to the lack of knowledge of our python programming skills, we can't not made a lot of functions and use all the graph properly in the report. However, we did tried our best to figure out how the machine learning progress work in a python system. By looking into these process, we learn how to data should be handled for machine algorithm learning.  By using different algorithms, we gain the knowledge of the benefits and drawbacks when using different models in different situations. One of our challenges is we are insufficient of using graph or method to compare the result of the model. We are looking forward to gain more knowledge and improve in this area."
      ]
    },
    {
      "cell_type": "markdown",
      "metadata": {
        "id": "dYtAOFuf6fJe",
        "colab_type": "text"
      },
      "source": [
        "# 5 Eithical issue\n",
        "\n",
        "Machine learning undoubtedly plays an important role in analysis based on large amounts of data. According to the utilitarian approach evaluates behavior based on its consequences or outcomes. When performing the algorithm on these data which need careful classification, it needs a lot of professional knowledge support, just like the classification of wine grade in this paper. It not only includes the knowledge of wine professional knowledge, but also integrates programming statistics and other fields. Lack of any kind of knowledge can have a great impact on the final outcome. Misjudgment will directly affect the value of the whole thing. \n",
        "\n",
        "Also, the Kantian ethics supported that for an action to be permissible, it must be possible to apply it to all people without a contradiction occurring, Therefore, although our original intention is to use machine learning algorithm for more convenient analysis, because machine learning technology is not fully accepted by the society at present, the arrival of new technologies will inevitably affect the traditional process, just like wine connoisseurs, although they may not be as fast as machines, often they can be more accurately than machines according to experience accumulates and there must be contradiction between them. Therefore, machine learning algorithm, a new technology, still needs to be carefully considered before it is widely used in various fields. It is necessary to balance the relationship between traditional technology and machine learning algorithm.\n"
      ]
    }
  ]
}